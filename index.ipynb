{
  "cells": [
    {
      "cell_type": "raw",
      "metadata": {},
      "source": [
        "---\n",
        "title: \"Machine Learning in Business Analytics 2023-2024\"\n",
        "repo-actions: false\n",
        "toc: false\n",
        "---"
      ],
      "id": "5badc29d"
    },
    {
      "cell_type": "markdown",
      "metadata": {},
      "source": [
        "🧑🏻‍🏫 **Teaching staff:** [Dr. Marc-Olivier Boldi](https://applicationspub.unil.ch/interpub/noauth/php/Un/UnPers.php?PerNum=1073453&LanCode=8) (Lecturer) & [Ilia Azizi](https://iliaazizi.com/) (TA).\n",
        "\n",
        "🕛 **Time:** Mondays 8:30-12:00, starting on Monday the 19^th^ of February 2024.\n",
        "\n",
        "🏫 **Room:** [Anthropole 3174](https://planete.unil.ch/?local=ANT-3174) (*no live broadcasting or recording*).\n",
        "\n",
        "### 📖 Content\n",
        "\n",
        "This course presents several machine learning techniques in business and management contexts. The list of topics is meant to cover mainly supervised methods of classification and prediction although unsupervised methods are also seen. Below is a tentative lists of topics. It will be adapted according to the pace of the class:\n",
        "\n",
        "- Supervised learning models: regressions, trees, support vector machine, neural networks.\n",
        "- Data splitting: training/test sets, cross-validation, bootstrap.\n",
        "- Metrics: MSE, Accuracy, ...\n",
        "- Ensemble methods: bagging, random forests, boosting.\n",
        "- Unsupervised learning: clustering, PCA, FAMD, Auto-Encoder\n",
        "- Interpretable machine learning: variale importance, partial dependence plots, LIME.\n",
        "\n",
        "Exercises and theory are equally important for the success of the class. For the excercises we use primarly R, with equivalent code in Python.\n",
        "\n",
        "### 📝 Evaluation\n",
        "\n",
        "1. Partial written exam: organized during the semester.\n",
        "2. Applied project: individual or in group (depending on the number of participants to the course).\n",
        "   - One report (incl. supplementary material, codes, etc.)\n",
        "   - One final presentation will be organized during the semester or during the exam session (depending on the number of participants).\n",
        "\n",
        "\n",
        "```{md}\n",
        "#| code-copy: false\n",
        "Final grade = (0.3 x exam) + (0.3 x presentation) + (0.4 x report)\n",
        "```\n",
        "\n",
        "\n",
        "::: {.callout-caution}\n",
        "## Project member contributions\n",
        "\n",
        "The project grade is a group grade. However, if the contribution of the members of the groups to the project is unbalanced, an individual adaptation of the grade will be made, e.g., absence of one of the members of the group during the presentation (in catch-up, a subsequent and adapted presentation of the absent member may be required).\n",
        ":::\n",
        "\n",
        "\n",
        "Further directives and guidelines are provided here."
      ],
      "id": "28d497e1"
    }
  ],
  "metadata": {
    "kernelspec": {
      "name": "python3",
      "language": "python",
      "display_name": "Python 3 (ipykernel)"
    }
  },
  "nbformat": 4,
  "nbformat_minor": 5
}